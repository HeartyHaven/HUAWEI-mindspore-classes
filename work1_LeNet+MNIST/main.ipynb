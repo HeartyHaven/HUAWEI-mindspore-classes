{
 "cells": [
  {
   "cell_type": "markdown",
   "metadata": {},
   "source": [
    "# <CENTER>LeNet5手写数字识别作业</CENTER>\n",
    "\n",
    "#### <CENTER>高朗 U202115641 计科2110班</CENTER>"
   ]
  },
  {
   "cell_type": "markdown",
   "metadata": {},
   "source": [
    "## 2.2.1 环境准备\n",
    "MindSpore模块主要用于本次实验卷积神经网络的构建，包括很多子模块。\n",
    "- mindspore.dataset：包括MNIST数据集的载入与处理，也可以自定义数据集。\n",
    "- mindspore.common：包中会有诸如type形态转变、权重初始化等的常规工具。\n",
    "- mindspore.nn：主要包括网络可能涉及到的各类网络层，诸如卷积层、池化层、全连接层，也包括损失函数，激活函数等。\n",
    "- Model：承载网络结构，并能够调用优化器、损失函数、评价指标。 "
   ]
  },
  {
   "cell_type": "code",
   "execution_count": 1,
   "metadata": {},
   "outputs": [
    {
     "name": "stderr",
     "output_type": "stream",
     "text": [
      "[WARNING] ME(14649:140114932912768,MainProcess):2023-10-28-15:13:12.608.581 [mindspore/run_check/_check_version.py:102] MindSpore version 2.2.0 and cuda version 11.4.148 does not match, CUDA version [['10.1', '11.1', '11.6']] are supported by MindSpore officially. Please refer to the installation guide for version matching information: https://www.mindspore.cn/install.\n"
     ]
    }
   ],
   "source": [
    "import mindspore\n",
    "from mindspore import dtype\n",
    "from mindspore import context\n",
    "from mindspore.dataset import MnistDataset\n",
    "from mindspore.dataset.vision import Resize, Rescale, HWC2CHW\n",
    "from mindspore.dataset.transforms import TypeCast\n",
    "from mindspore import nn\n",
    "from mindspore.train.callback import ModelCheckpoint, CheckpointConfig, LossMonitor, TimeMonitor\n",
    "from mindspore.train import Model\n",
    "from mindspore.nn.metrics import Accuracy"
   ]
  },
  {
   "cell_type": "markdown",
   "metadata": {},
   "source": [
    "## 2.2.2 数据处理 \n",
    "定义数据预处理函数。\n",
    "函数功能包括：\n",
    "1. 加载数据集\n",
    "2. 打乱数据集\n",
    "3. 图像特征处理（标准化、通道转换等）\n",
    "4. 批量输出数据\n",
    "5. 重复"
   ]
  },
  {
   "cell_type": "markdown",
   "metadata": {},
   "source": [
    "- 打印数据集列名"
   ]
  },
  {
   "cell_type": "code",
   "execution_count": 2,
   "metadata": {},
   "outputs": [
    {
     "name": "stdout",
     "output_type": "stream",
     "text": [
      "['image', 'label']\n"
     ]
    }
   ],
   "source": [
    "train_dataset = MnistDataset('MNIST/train')\n",
    "test_dataset = MnistDataset('MNIST/test')\n",
    "print(train_dataset.get_col_names()) # 打印数据集中包含的数据列名，用于 dataset 的预处理"
   ]
  },
  {
   "cell_type": "markdown",
   "metadata": {},
   "source": [
    "- 使用create_tuple_iterator对数据集进行迭代，打印数据集shape"
   ]
  },
  {
   "cell_type": "code",
   "execution_count": 3,
   "metadata": {},
   "outputs": [
    {
     "name": "stdout",
     "output_type": "stream",
     "text": [
      "Shape of image [N, C, H, W]: (28, 28, 1) UInt8\n",
      "Shape of label: () UInt32\n"
     ]
    }
   ],
   "source": [
    "for image, label in test_dataset.create_tuple_iterator():\n",
    "    print(f\"Shape of image [N, C, H, W]: {image.shape} {image.dtype}\")\n",
    "    print(f\"Shape of label: {label.shape} {label.dtype}\")\n",
    "    break"
   ]
  },
  {
   "cell_type": "markdown",
   "metadata": {},
   "source": [
    "- 数据预处理函数实现"
   ]
  },
  {
   "cell_type": "code",
   "execution_count": 6,
   "metadata": {},
   "outputs": [],
   "source": [
    "def create_dataset(data_path, batch_size=32, num_parallel_workers=1):\n",
    "    \"\"\"\n",
    "    create dataset for train or test\n",
    "    \"\"\"\n",
    "    # define dataset\n",
    "    mnist_ds = MnistDataset(data_path)\n",
    "    resize_height, resize_width = 32, 32\n",
    "    rescale = 1.0 /255.0\n",
    "    rescale_nml = 1 /0.3081\n",
    "    shift_nml = -1 * 0.1307 / 0.3081\n",
    "    # define map operations\n",
    "    resize_op = Resize((resize_height, resize_width)) # Bilinear mode\n",
    "    rescale_nml_op = Rescale(rescale_nml * rescale, shift_nml)\n",
    "    hwc2chw_op = HWC2CHW()\n",
    "    type_cast_op = TypeCast(dtype.int32)\n",
    "    # apply map operations on images\n",
    "    mnist_ds = mnist_ds.map(operations=type_cast_op, input_columns=\"label\",\n",
    "                            num_parallel_workers=num_parallel_workers)\n",
    "    mnist_ds = mnist_ds.map(operations=resize_op, input_columns=\"image\",num_parallel_workers=num_parallel_workers)\n",
    "    mnist_ds = mnist_ds.map(operations=rescale_nml_op, input_columns=\"image\",num_parallel_workers=num_parallel_workers)\n",
    "    mnist_ds = mnist_ds.map(operations=hwc2chw_op, input_columns=\"image\",num_parallel_workers=num_parallel_workers)\n",
    "    # apply DatasetOps\n",
    "    mnist_ds = mnist_ds.shuffle(buffer_size=1024)\n",
    "    mnist_ds = mnist_ds.batch(batch_size, drop_remainder=True)\n",
    "    return mnist_ds"
   ]
  },
  {
   "cell_type": "markdown",
   "metadata": {},
   "source": [
    "- 加载训练数据集，并打印数据shape"
   ]
  },
  {
   "cell_type": "code",
   "execution_count": 8,
   "metadata": {},
   "outputs": [
    {
     "name": "stdout",
     "output_type": "stream",
     "text": [
      "Shape of image [N, C, H, W]: (32, 1, 32, 32) Float32\n",
      "Shape of label: (32,) Int32\n"
     ]
    }
   ],
   "source": [
    "ds_train = create_dataset(\"./MNIST/train\", 32)\n",
    "for data in ds_train.create_dict_iterator():\n",
    "    print(f\"Shape of image [N, C, H, W]: {data['image'].shape} {data['image'].dtype}\")\n",
    "    print(f\"Shape of label: {data[ 'label'].shape} {data['label'].dtype}\")\n",
    "    break"
   ]
  },
  {
   "cell_type": "markdown",
   "metadata": {},
   "source": [
    "## 2.2.3 网络定义\n",
    "参考LeNet网络结构，构建网络：\n",
    "\n",
    "LeNet-5出自论文《Gradient-Based Learning Applied to Document Recognition》，原本是一种用于手写体字符识别的非常高效的卷积神经网络，包含了深度学习的基本模块：卷积层，池化层，全连接层。\n",
    "\n",
    "mindspore.nn类是构建所有网络的基类，也是网络的基本单元。当用户需要自定义网络时，可以继承nn.Cell类，并重写__init__方法和construct方法。__init__包含所有网络层的定义，construct中包含数据（Tensor）的变换过程（即计算图的构造过程）"
   ]
  },
  {
   "cell_type": "code",
   "execution_count": 20,
   "metadata": {},
   "outputs": [],
   "source": [
    "import mindspore.nn as nn\n",
    "class LeNet5(nn.Cell):\n",
    "    \"\"\"\n",
    "    LeNet5网络结构 \n",
    "    \"\"\"\n",
    "    def __init__(self, num_class=10, num_channel=1):\n",
    "        super(LeNet5, self).__init__()\n",
    "        # 卷积层，输入的通道数为 num_channel，输出的通道数为 6，卷积核大小为 5*5\n",
    "        self.conv1 = nn.Conv2d(num_channel, 6, 5, pad_mode='valid')\n",
    "        # 卷积层，输入的通道数为 6，输出的通道数为 16，卷积核大小为 5*5\n",
    "        self.conv2 = nn.Conv2d(6, 16, 5, pad_mode='valid')\n",
    "        #全连接层，输入个数为 16*5*5，输出个数为 120\n",
    "        self.fc1 = nn.Dense(16* 5 * 5, 120)\n",
    "        # 全连接层，输入个数为 120，输出个数为 84\n",
    "        self.fc2 = nn.Dense(120, 84)\n",
    "        #全连接层，输入个数为 84，分类的个数为 num class\n",
    "        self.fc3 = nn.Dense(84, num_class)\n",
    "        # ReLU 激活函数\n",
    "        self.relu = nn.ReLU()\n",
    "        # 池化层\n",
    "        self.max_pool2d = nn.MaxPool2d(kernel_size=2, stride=2)\n",
    "        #多维数组展平为一维数组\n",
    "        self.flatten = nn.Flatten()\n",
    "    def construct(self, x):\n",
    "        # 使用定义好的运算构建前向网络\n",
    "        x = self.conv1(x)\n",
    "        x = self.relu(x)\n",
    "        x = self.max_pool2d(x)\n",
    "        x = self.conv2(x)\n",
    "        x = self.relu(x)\n",
    "        x = self.max_pool2d(x)\n",
    "        x = self.flatten(x)\n",
    "        x = self.fc1(x)\n",
    "        x = self.relu(x)\n",
    "        x = self.fc2(x)\n",
    "        x = self.relu(x)\n",
    "        x = self.fc3(x)\n",
    "        return x\n",
    "model = LeNet5()"
   ]
  },
  {
   "cell_type": "markdown",
   "metadata": {},
   "source": [
    "- 实例化LeNet5对象，并查看其结构"
   ]
  },
  {
   "cell_type": "code",
   "execution_count": 21,
   "metadata": {},
   "outputs": [
    {
     "name": "stdout",
     "output_type": "stream",
     "text": [
      "LeNet5<\n",
      "  (conv1): Conv2d<input_channels=1, output_channels=6, kernel_size=(5, 5), stride=(1, 1), pad_mode=valid, padding=0, dilation=(1, 1), group=1, has_bias=False, weight_init=<mindspore.common.initializer.HeUniform object at 0x7f6edbfd7580>, bias_init=None, format=NCHW>\n",
      "  (conv2): Conv2d<input_channels=6, output_channels=16, kernel_size=(5, 5), stride=(1, 1), pad_mode=valid, padding=0, dilation=(1, 1), group=1, has_bias=False, weight_init=<mindspore.common.initializer.HeUniform object at 0x7f6edbfd7a90>, bias_init=None, format=NCHW>\n",
      "  (fc1): Dense<input_channels=400, output_channels=120, has_bias=True>\n",
      "  (fc2): Dense<input_channels=120, output_channels=84, has_bias=True>\n",
      "  (fc3): Dense<input_channels=84, output_channels=10, has_bias=True>\n",
      "  (relu): ReLU<>\n",
      "  (max_pool2d): MaxPool2d<kernel_size=2, stride=2, pad_mode=VALID>\n",
      "  (flatten): Flatten<>\n",
      "  >\n"
     ]
    }
   ],
   "source": [
    "print(model)"
   ]
  },
  {
   "cell_type": "markdown",
   "metadata": {},
   "source": [
    "## 2.2.4 模型训练\n",
    "载入数据集 \n",
    "\n",
    "构建网络，包含：构建网络、选择损失函数、优化器、模型\n",
    "\n",
    "训练模型"
   ]
  },
  {
   "cell_type": "code",
   "execution_count": 25,
   "metadata": {},
   "outputs": [
    {
     "name": "stdout",
     "output_type": "stream",
     "text": [
      "============== Starting Training ==============\n",
      "epoch: 1 step: 1875, loss is 0.022805936634540558\n",
      "Train epoch time: 11468.204 ms, per step time: 6.116 ms\n",
      "epoch: 2 step: 1875, loss is 0.04516192153096199\n",
      "Train epoch time: 2172.446 ms, per step time: 1.159 ms\n",
      "epoch: 3 step: 1875, loss is 0.010889369994401932\n",
      "Train epoch time: 2166.698 ms, per step time: 1.156 ms\n",
      "epoch: 4 step: 1875, loss is 0.002444074722006917\n",
      "Train epoch time: 2186.845 ms, per step time: 1.166 ms\n",
      "epoch: 5 step: 1875, loss is 0.056051403284072876\n",
      "Train epoch time: 2165.922 ms, per step time: 1.155 ms\n",
      "epoch: 6 step: 1875, loss is 0.0038104818668216467\n",
      "Train epoch time: 2150.983 ms, per step time: 1.147 ms\n",
      "epoch: 7 step: 1875, loss is 0.010055968537926674\n",
      "Train epoch time: 2190.602 ms, per step time: 1.168 ms\n",
      "epoch: 8 step: 1875, loss is 0.049697134643793106\n",
      "Train epoch time: 2161.336 ms, per step time: 1.153 ms\n",
      "epoch: 9 step: 1875, loss is 0.013900700956583023\n",
      "Train epoch time: 2148.155 ms, per step time: 1.146 ms\n",
      "epoch: 10 step: 1875, loss is 6.786255835322663e-05\n",
      "Train epoch time: 2124.966 ms, per step time: 1.133 ms\n"
     ]
    }
   ],
   "source": [
    "context.set_context(mode=context.GRAPH_MODE)\n",
    "ds_train = create_dataset(\"./MNIST/train\", 32)\n",
    "network = LeNet5(10)\n",
    "net_loss = nn.SoftmaxCrossEntropyWithLogits(sparse=True, reduction=\"mean\")\n",
    "net_opt = nn.Momentum(network.trainable_params(), 0.01, 0.9)\n",
    "time_cb = TimeMonitor(data_size=ds_train.get_dataset_size())\n",
    "config_ck = CheckpointConfig(save_checkpoint_steps=1875,keep_checkpoint_max=10)\n",
    "ckpoint_cb = ModelCheckpoint(prefix=\"checkpoint lenet\", directory=\"./\", config=config_ck)\n",
    "model = Model(network, net_loss, net_opt, metrics={\"Accuracy\": Accuracy()})\n",
    "print(\"============== Starting Training ==============\")\n",
    "model.train(10, ds_train, callbacks=[time_cb, ckpoint_cb, LossMonitor()], dataset_sink_mode=True)"
   ]
  },
  {
   "cell_type": "markdown",
   "metadata": {},
   "source": [
    "## 2.2.5 模型评估\n",
    "查看模型在测试集的准确率"
   ]
  },
  {
   "cell_type": "code",
   "execution_count": 27,
   "metadata": {},
   "outputs": [
    {
     "name": "stdout",
     "output_type": "stream",
     "text": [
      "============== Starting Testing ==============\n",
      "============== {'Accuracy': 0.9900841346153846} ==============\n"
     ]
    }
   ],
   "source": [
    "from mindspore.train.serialization import load_checkpoint, load_param_into_net\n",
    "network = LeNet5(10)\n",
    "net_loss = nn.SoftmaxCrossEntropyWithLogits(sparse=True, reduction=\"mean\")\n",
    "model = Model(network, net_loss, metrics={\"Accuracy\": Accuracy()})\n",
    "\n",
    "print(\"============== Starting Testing ==============\")\n",
    "param_dict = load_checkpoint(\"checkpoint lenet-10_1875.ckpt\")\n",
    "load_param_into_net(network, param_dict)\n",
    "ds_eval = create_dataset(\"./MNIST/test\", 32)\n",
    "acc = model.eval(ds_eval)\n",
    "print(\"============== {} ==============\".format(acc))"
   ]
  },
  {
   "cell_type": "markdown",
   "metadata": {},
   "source": [
    "## 2.2.6 效果展示"
   ]
  },
  {
   "cell_type": "code",
   "execution_count": 32,
   "metadata": {},
   "outputs": [
    {
     "data": {
      "image/png": "[encoded data removed]",
      "text/plain": [
       "<Figure size 640x480 with 9 Axes>"
      ]
     },
     "metadata": {},
     "output_type": "display_data"
    },
    {
     "name": "stdout",
     "output_type": "stream",
     "text": [
      "Predicted: \"[1 8 1 5 7 1 3 0 0]\", Labels: \"\"[1 8 1 5 7 1 3 0 0]\"\"\n"
     ]
    },
    {
     "name": "stderr",
     "output_type": "stream",
     "text": [
      "[ERROR] CORE(14649,7f6f0ccdd280,python):2023-10-28-15:31:00.560.246 [mindspore/core/utils/file_utils.cc:253] GetRealPath] Get realpath failed, path[/tmp/ipykernel_14649/4207191589.py]\n",
      "[ERROR] CORE(14649,7f6f0ccdd280,python):2023-10-28-15:31:00.560.292 [mindspore/core/utils/file_utils.cc:253] GetRealPath] Get realpath failed, path[/tmp/ipykernel_14649/4207191589.py]\n"
     ]
    }
   ],
   "source": [
    "import matplotlib.pyplot as plt\n",
    "import numpy as np\n",
    "ds_test = create_dataset(\"./MNIST/test\", 9)\n",
    "ds_test = ds_test.create_dict_iterator()\n",
    "data = next(ds_test)\n",
    "images = data[\"image\"].asnumpy()\n",
    "labels = data[\"label\"].asnumpy()\n",
    "plt.figure()\n",
    "for i in range(1, 10):\n",
    "    plt.subplot(3, 3, i)\n",
    "    plt.imshow(images[i-1][0], interpolation=\"None\", cmap=\"gray\")\n",
    "plt.show()\n",
    "# 使用函数 model.predict 预测 image 对应分类\n",
    "output = model.predict(mindspore.Tensor(data['image']))\n",
    "predicted = np.argmax(output.asnumpy(), axis= 1)# 输出预测分类与实际分类\n",
    "print(f'Predicted: \"{predicted}\", Labels: \"\"{labels}\"\"')"
   ]
  },
  {
   "cell_type": "markdown",
   "metadata": {},
   "source": [
    "模型导出"
   ]
  },
  {
   "cell_type": "code",
   "execution_count": 37,
   "metadata": {},
   "outputs": [],
   "source": [
    "from mindspore import Tensor, context, load_checkpoint, load_param_into_net, export\n",
    "\n",
    "network = LeNet5(10)\n",
    "# load network checkpoint\n",
    "param_dict = load_checkpoint(\"checkpoint lenet-10_1875.ckpt\")\n",
    "load_param_into_net(network, param_dict)\n",
    "\n",
    "# export network\n",
    "inputs = Tensor(np.ones([1, 1, 32, 32]), mindspore.float32)  # batch size 1, image height and weight 32\n",
    "export(network, inputs, file_name=\"LeNet5\", file_format=\"ONNX\")"
   ]
  },
  {
   "cell_type": "markdown",
   "metadata": {},
   "source": [
    "## 补充内容\n",
    "\n",
    "#### 2.3 实验总结\n",
    "\n",
    "本实验介绍了MindSpore在图像数据集上的应用，使用MNIST手写体数据集搭建LeNet5卷积神经网络，让学员熟悉MindSpore的进阶用法，掌握MindSpore开发的流程。\n",
    "\n",
    "#### 2.4 思考题\n",
    "\n",
    "1. 请描述MindSpore的基础数据处理流程。\n",
    "\n",
    "答：数据加载 > shuffle > map > batch > repeat。\n",
    "\n",
    "2. 定义网络时需要继承哪一个基类？\n",
    "\n",
    "答：mindspore.nn.Cell。\n",
    "\n",
    "3. 定义网络时有哪些必须编写哪两个函数？\n",
    "\n",
    "答：_\\_init__()，construct()。\n",
    "\n",
    "4. 思考3中提到的两个函数有什么用途？\n",
    "\n",
    "答：一般会在__init__()中定义算子，然后在construct()中定义网络结构。__init__()中的语句由Python解析执行；construct()中的语句由MindSpore接管，有语法限制。"
   ]
  }
 ],
 "metadata": {
  "kernelspec": {
   "display_name": "homework",
   "language": "python",
   "name": "python3"
  },
  "language_info": {
   "codemirror_mode": {
    "name": "ipython",
    "version": 3
   },
   "file_extension": ".py",
   "mimetype": "text/x-python",
   "name": "python",
   "nbconvert_exporter": "python",
   "pygments_lexer": "ipython3",
   "version": "3.9.16"
  }
 },
 "nbformat": 4,
 "nbformat_minor": 2
}
